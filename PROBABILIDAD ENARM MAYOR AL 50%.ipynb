{
 "cells": [
  {
   "cell_type": "markdown",
   "metadata": {},
   "source": [
    "# PROBABILIDAD DE ÉXITO EN EL ENARM MAYOR AL 50%"
   ]
  },
  {
   "cell_type": "markdown",
   "metadata": {},
   "source": [
    "Como es bien sabido, un médico cirujano en México cuenta con tres oportunidades para presentar el examen de especialidad ENARM; sin embargo, es necesario comprobar si el contar con estas tres oportunidades se ofrece una probabilidad de éxito mayor al 50%."
   ]
  },
  {
   "attachments": {},
   "cell_type": "markdown",
   "metadata": {},
   "source": [
    "<img src=\"https://i.imgur.com/voLtdpW.jpg\" width=\"800\">"
   ]
  },
  {
   "cell_type": "markdown",
   "metadata": {},
   "source": [
    "Una vez que se ha realizado el diagrama de árbol previo, se observa que cada vez que el examen es reprobado, se tiene que hacer un nuevo intento; por lo que en cada intento se debe nuevamente multiplicar por 0.784; por lo tanto, la probabilidad de reprobar de dos a cinco intentos, es:"
   ]
  },
  {
   "cell_type": "code",
   "execution_count": 3,
   "metadata": {},
   "outputs": [
    {
     "data": {
      "text/html": [
       "0.784"
      ],
      "text/latex": [
       "0.784"
      ],
      "text/markdown": [
       "0.784"
      ],
      "text/plain": [
       "[1] 0.784"
      ]
     },
     "metadata": {},
     "output_type": "display_data"
    },
    {
     "data": {
      "text/html": [
       "0.614656"
      ],
      "text/latex": [
       "0.614656"
      ],
      "text/markdown": [
       "0.614656"
      ],
      "text/plain": [
       "[1] 0.614656"
      ]
     },
     "metadata": {},
     "output_type": "display_data"
    },
    {
     "data": {
      "text/html": [
       "0.481890304"
      ],
      "text/latex": [
       "0.481890304"
      ],
      "text/markdown": [
       "0.481890304"
      ],
      "text/plain": [
       "[1] 0.4818903"
      ]
     },
     "metadata": {},
     "output_type": "display_data"
    },
    {
     "data": {
      "text/html": [
       "0.377801998336"
      ],
      "text/latex": [
       "0.377801998336"
      ],
      "text/markdown": [
       "0.377801998336"
      ],
      "text/plain": [
       "[1] 0.377802"
      ]
     },
     "metadata": {},
     "output_type": "display_data"
    },
    {
     "data": {
      "text/html": [
       "0.296196766695424"
      ],
      "text/latex": [
       "0.296196766695424"
      ],
      "text/markdown": [
       "0.296196766695424"
      ],
      "text/plain": [
       "[1] 0.2961968"
      ]
     },
     "metadata": {},
     "output_type": "display_data"
    }
   ],
   "source": [
    "0.784**1\n",
    "0.784**2\n",
    "0.784**3\n",
    "0.784**4\n",
    "0.784**5"
   ]
  },
  {
   "cell_type": "markdown",
   "metadata": {},
   "source": [
    "Como se oberva en los datos anteriores, en un tercer intento se tiene una probabilidad de reprobar del 48.1%; esto implica que de un 100%, el 51.9% representa un probabilidad de aprobar, es así como se concluye que en un tercer intento, la probabilidad de aprobar es mayor al 50%. Esto último puede explicar la razón por la cual los médicos cuentan con tres oprtunidades para presentar el examen; pues se sabe que al menos en un tercer intento es probable aprobarlo."
   ]
  },
  {
   "cell_type": "code",
   "execution_count": null,
   "metadata": {},
   "outputs": [],
   "source": []
  },
  {
   "cell_type": "code",
   "execution_count": null,
   "metadata": {},
   "outputs": [],
   "source": []
  },
  {
   "cell_type": "code",
   "execution_count": null,
   "metadata": {},
   "outputs": [],
   "source": []
  },
  {
   "cell_type": "code",
   "execution_count": null,
   "metadata": {},
   "outputs": [],
   "source": []
  },
  {
   "cell_type": "code",
   "execution_count": null,
   "metadata": {},
   "outputs": [],
   "source": []
  },
  {
   "cell_type": "code",
   "execution_count": null,
   "metadata": {},
   "outputs": [],
   "source": []
  },
  {
   "cell_type": "code",
   "execution_count": null,
   "metadata": {},
   "outputs": [],
   "source": []
  }
 ],
 "metadata": {
  "kernelspec": {
   "display_name": "R",
   "language": "R",
   "name": "ir"
  },
  "language_info": {
   "codemirror_mode": "r",
   "file_extension": ".r",
   "mimetype": "text/x-r-source",
   "name": "R",
   "pygments_lexer": "r",
   "version": "3.6.1"
  }
 },
 "nbformat": 4,
 "nbformat_minor": 2
}
